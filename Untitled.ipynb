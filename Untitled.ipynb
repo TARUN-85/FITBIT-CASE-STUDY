{
 "cells": [
  {
   "cell_type": "markdown",
   "id": "dd133cba",
   "metadata": {},
   "source": [
    "# FITBIT CASE STUDY"
   ]
  },
  {
   "cell_type": "markdown",
   "id": "948aff52",
   "metadata": {},
   "source": [
    "#### IMPORTING NUMPY"
   ]
  },
  {
   "cell_type": "code",
   "execution_count": 1,
   "id": "da46fbdf",
   "metadata": {},
   "outputs": [],
   "source": [
    "import numpy as np"
   ]
  },
  {
   "cell_type": "markdown",
   "id": "47ca3295",
   "metadata": {},
   "source": [
    "# 1.loading of file"
   ]
  },
  {
   "cell_type": "code",
   "execution_count": 2,
   "id": "e697ff8d",
   "metadata": {},
   "outputs": [
    {
     "data": {
      "text/plain": [
       "array([['06-10-2017', '5464', '200', '181', '5', '0', '66'],\n",
       "       ['07-10-2017', '6041', '100', '197', '8', '0', '66'],\n",
       "       ['08-10-2017', '25', '100', '0', '5', '0', '66'],\n",
       "       ['09-10-2017', '5461', '100', '174', '4', '0', '66'],\n",
       "       ['10-10-2017', '6915', '200', '223', '5', '500', '66'],\n",
       "       ['11-10-2017', '4545', '100', '149', '6', '0', '66'],\n",
       "       ['12-10-2017', '4340', '100', '140', '6', '0', '66'],\n",
       "       ['13-10-2017', '1230', '100', '38', '7', '0', '66'],\n",
       "       ['14-10-2017', '61', '100', '1', '5', '0', '66'],\n",
       "       ['15-10-2017', '1258', '100', '40', '6', '0', '65'],\n",
       "       ['16-10-2017', '3148', '100', '101', '8', '0', '65'],\n",
       "       ['17-10-2017', '4687', '100', '152', '5', '0', '65'],\n",
       "       ['18-10-2017', '4732', '300', '150', '6', '500', '65'],\n",
       "       ['19-10-2017', '3519', '100', '113', '7', '0', '65'],\n",
       "       ['20-10-2017', '1580', '100', '49', '5', '0', '65'],\n",
       "       ['21-10-2017', '2822', '100', '86', '6', '0', '65'],\n",
       "       ['22-10-2017', '181', '100', '6', '8', '0', '65'],\n",
       "       ['23-10-2017', '3158', '200', '99', '5', '0', '65'],\n",
       "       ['24-10-2017', '4383', '200', '143', '4', '0', '64'],\n",
       "       ['25-10-2017', '3881', '200', '125', '5', '0', '64'],\n",
       "       ['26-10-2017', '4037', '200', '129', '6', '0', '64'],\n",
       "       ['27-10-2017', '202', '200', '6', '8', '0', '64'],\n",
       "       ['28-10-2017', '292', '200', '9', '5', '0', '64'],\n",
       "       ['29-10-2017', '330', '300', '10', '6', '0', '64'],\n",
       "       ['30-10-2017', '2209', '200', '72', '5', '0', '64'],\n",
       "       ['31-10-2017', '4550', '300', '150', '8', '500', '64'],\n",
       "       ['01-11-2017', '4435', '300', '141', '5', '0', '64'],\n",
       "       ['02-11-2017', '4779', '300', '156', '4', '0', '64'],\n",
       "       ['03-11-2017', '1831', '300', '57', '5', '0', '64'],\n",
       "       ['04-11-2017', '2255', '300', '72', '4', '0', '64'],\n",
       "       ['05-11-2017', '539', '300', '17', '5', '500', '64'],\n",
       "       ['06-11-2017', '5464', '300', '181', '4', '0', '64'],\n",
       "       ['07-11-2017', '6041', '200', '197', '3', '0', '64'],\n",
       "       ['08-11-2017', '4068', '300', '131', '2', '0', '64'],\n",
       "       ['09-11-2017', '4683', '300', '154', '9', '0', '64'],\n",
       "       ['10-11-2017', '4033', '300', '137', '5', '0', '64'],\n",
       "       ['11-11-2017', '6314', '300', '193', '6', '500', '64'],\n",
       "       ['12-11-2017', '614', '300', '19', '4', '500', '64'],\n",
       "       ['13-11-2017', '3149', '300', '101', '5', '500', '64'],\n",
       "       ['14-11-2017', '4005', '300', '139', '8', '500', '64'],\n",
       "       ['15-11-2017', '4880', '300', '164', '4', '500', '64'],\n",
       "       ['16-11-2017', '4136', '300', '137', '5', '500', '64'],\n",
       "       ['17-11-2017', '705', '300', '22', '6', '500', '64'],\n",
       "       ['18-11-2017', '570', '200', '17', '5', '500', '64'],\n",
       "       ['19-11-2017', '269', '300', '9', '6', '500', '64'],\n",
       "       ['20-11-2017', '4275', '300', '145', '5', '0', '64'],\n",
       "       ['21-11-2017', '5999', '300', '192', '6', '0', '64'],\n",
       "       ['22-11-2017', '4421', '300', '146', '5', '0', '64'],\n",
       "       ['23-11-2017', '6930', '300', '234', '6', '0', '64'],\n",
       "       ['24-11-2017', '5195', '300', '167', '5', '0', '64'],\n",
       "       ['25-11-2017', '546', '300', '16', '6', '0', '64'],\n",
       "       ['26-11-2017', '493', '300', '17', '7', '500', '64'],\n",
       "       ['27-11-2017', '995', '300', '32', '6', '500', '64'],\n",
       "       ['28-11-2017', '1163', '200', '35', '7', '500', '64'],\n",
       "       ['29-11-2017', '6676', '100', '220', '6', '500', '64'],\n",
       "       ['30-11-2017', '3608', '300', '116', '5', '500', '64'],\n",
       "       ['01-12-2017', '774', '300', '23', '6', '500', '64'],\n",
       "       ['02-12-2017', '1421', '300', '44', '7', '500', '64'],\n",
       "       ['03-12-2017', '4064', '300', '131', '8', '500', '64'],\n",
       "       ['04-12-2017', '2725', '300', '86', '8', '500', '64'],\n",
       "       ['05-12-2017', '5934', '300', '194', '7', '500', '64'],\n",
       "       ['06-12-2017', '1867', '300', '60', '8', '500', '64'],\n",
       "       ['07-12-2017', '3721', '100', '121', '5', '500', '64'],\n",
       "       ['08-12-2017', '2374', '200', '76', '4', '0', '64'],\n",
       "       ['09-12-2017', '2909', '200', '93', '3', '500', '64'],\n",
       "       ['10-12-2017', '1648', '100', '53', '3', '500', '64'],\n",
       "       ['11-12-2017', '799', '100', '25', '4', '0', '64'],\n",
       "       ['12-12-2017', '7102', '200', '227', '5', '500', '64'],\n",
       "       ['13-12-2017', '3941', '200', '125', '5', '500', '64'],\n",
       "       ['14-12-2017', '7422', '300', '243', '5', '500', '64'],\n",
       "       ['15-12-2017', '437', '200', '14', '3', '500', '64'],\n",
       "       ['16-12-2017', '1231', '200', '39', '4', '500', '64'],\n",
       "       ['17-12-2017', '1696', '100', '55', '4', '0', '64'],\n",
       "       ['18-12-2017', '4921', '200', '158', '5', '500', '64'],\n",
       "       ['19-12-2017', '221', '100', '7', '5', '500', '64'],\n",
       "       ['20-12-2017', '6500', '200', '213', '5', '500', '64'],\n",
       "       ['21-12-2017', '3575', '200', '116', '5', '500', '64'],\n",
       "       ['22-12-2017', '4061', '100', '129', '5', '0', '64'],\n",
       "       ['23-12-2017', '651', '100', '21', '5', '0', '64'],\n",
       "       ['24-12-2017', '753', '100', '28', '4', '0', '64'],\n",
       "       ['25-12-2017', '518', '100', '16', '3', '0', '64'],\n",
       "       ['26-12-2017', '5537', '300', '180', '4', '500', '64'],\n",
       "       ['27-12-2017', '4108', '200', '138', '5', '500', '64'],\n",
       "       ['28-12-2017', '5376', '300', '176', '5', '500', '64'],\n",
       "       ['29-12-2017', '3066', '200', '99', '4', '500', '64'],\n",
       "       ['30-12-2017', '177', '100', '5', '5', '0', '64'],\n",
       "       ['31-12-2017', '36', '100', '1', '3', '0', '64'],\n",
       "       ['01-01-2018', '299', '100', '10', '3', '0', '64'],\n",
       "       ['02-01-2018', '1447', '200', '47', '3', '0', '64'],\n",
       "       ['03-01-2018', '2599', '200', '84', '2', '0', '64'],\n",
       "       ['04-01-2018', '702', '100', '23', '3', '0', '64'],\n",
       "       ['05-01-2018', '133', '100', '4', '2', '0', '64'],\n",
       "       ['06-01-2018', '153', '300', '0', '8', '0', '64'],\n",
       "       ['07-01-2018', '500', '200', '0', '5', '500', '64'],\n",
       "       ['08-01-2018', '2127', '200', '0', '5', '0', '64'],\n",
       "       ['09-01-2018', '2203', '300', '0', '5', '500', '64']], dtype='<U10')"
      ]
     },
     "execution_count": 2,
     "metadata": {},
     "output_type": "execute_result"
    }
   ],
   "source": [
    "data = np.loadtxt(\"FITBIT.txt\",dtype=\"str\")\n",
    "data"
   ]
  },
  {
   "cell_type": "code",
   "execution_count": 3,
   "id": "2bcd210f",
   "metadata": {},
   "outputs": [],
   "source": [
    "data = data.T"
   ]
  },
  {
   "cell_type": "markdown",
   "id": "56cd2d24",
   "metadata": {},
   "source": [
    "# 2.extracting column name along with its values and converting data types as per requirement"
   ]
  },
  {
   "cell_type": "code",
   "execution_count": 4,
   "id": "07bd04b1",
   "metadata": {},
   "outputs": [
    {
     "name": "stdout",
     "output_type": "stream",
     "text": [
      "date\n",
      "['06-10-2017' '07-10-2017' '08-10-2017' '09-10-2017' '10-10-2017'\n",
      " '11-10-2017' '12-10-2017' '13-10-2017' '14-10-2017' '15-10-2017'\n",
      " '16-10-2017' '17-10-2017' '18-10-2017' '19-10-2017' '20-10-2017'\n",
      " '21-10-2017' '22-10-2017' '23-10-2017' '24-10-2017' '25-10-2017'\n",
      " '26-10-2017' '27-10-2017' '28-10-2017' '29-10-2017' '30-10-2017'\n",
      " '31-10-2017' '01-11-2017' '02-11-2017' '03-11-2017' '04-11-2017'\n",
      " '05-11-2017' '06-11-2017' '07-11-2017' '08-11-2017' '09-11-2017'\n",
      " '10-11-2017' '11-11-2017' '12-11-2017' '13-11-2017' '14-11-2017'\n",
      " '15-11-2017' '16-11-2017' '17-11-2017' '18-11-2017' '19-11-2017'\n",
      " '20-11-2017' '21-11-2017' '22-11-2017' '23-11-2017' '24-11-2017'\n",
      " '25-11-2017' '26-11-2017' '27-11-2017' '28-11-2017' '29-11-2017'\n",
      " '30-11-2017' '01-12-2017' '02-12-2017' '03-12-2017' '04-12-2017'\n",
      " '05-12-2017' '06-12-2017' '07-12-2017' '08-12-2017' '09-12-2017'\n",
      " '10-12-2017' '11-12-2017' '12-12-2017' '13-12-2017' '14-12-2017'\n",
      " '15-12-2017' '16-12-2017' '17-12-2017' '18-12-2017' '19-12-2017'\n",
      " '20-12-2017' '21-12-2017' '22-12-2017' '23-12-2017' '24-12-2017'\n",
      " '25-12-2017' '26-12-2017' '27-12-2017' '28-12-2017' '29-12-2017'\n",
      " '30-12-2017' '31-12-2017' '01-01-2018' '02-01-2018' '03-01-2018'\n",
      " '04-01-2018' '05-01-2018' '06-01-2018' '07-01-2018' '08-01-2018'\n",
      " '09-01-2018']\n",
      "step_count\n",
      "[5464 6041   25 5461 6915 4545 4340 1230   61 1258 3148 4687 4732 3519\n",
      " 1580 2822  181 3158 4383 3881 4037  202  292  330 2209 4550 4435 4779\n",
      " 1831 2255  539 5464 6041 4068 4683 4033 6314  614 3149 4005 4880 4136\n",
      "  705  570  269 4275 5999 4421 6930 5195  546  493  995 1163 6676 3608\n",
      "  774 1421 4064 2725 5934 1867 3721 2374 2909 1648  799 7102 3941 7422\n",
      "  437 1231 1696 4921  221 6500 3575 4061  651  753  518 5537 4108 5376\n",
      " 3066  177   36  299 1447 2599  702  133  153  500 2127 2203]\n",
      "mood\n",
      "['200' '100' '100' '100' '200' '100' '100' '100' '100' '100' '100' '100'\n",
      " '300' '100' '100' '100' '100' '200' '200' '200' '200' '200' '200' '300'\n",
      " '200' '300' '300' '300' '300' '300' '300' '300' '200' '300' '300' '300'\n",
      " '300' '300' '300' '300' '300' '300' '300' '200' '300' '300' '300' '300'\n",
      " '300' '300' '300' '300' '300' '200' '100' '300' '300' '300' '300' '300'\n",
      " '300' '300' '100' '200' '200' '100' '100' '200' '200' '300' '200' '200'\n",
      " '100' '200' '100' '200' '200' '100' '100' '100' '100' '300' '200' '300'\n",
      " '200' '100' '100' '100' '200' '200' '100' '100' '300' '200' '200' '300']\n",
      "calories_burned\n",
      "[181 197   0 174 223 149 140  38   1  40 101 152 150 113  49  86   6  99\n",
      " 143 125 129   6   9  10  72 150 141 156  57  72  17 181 197 131 154 137\n",
      " 193  19 101 139 164 137  22  17   9 145 192 146 234 167  16  17  32  35\n",
      " 220 116  23  44 131  86 194  60 121  76  93  53  25 227 125 243  14  39\n",
      "  55 158   7 213 116 129  21  28  16 180 138 176  99   5   1  10  47  84\n",
      "  23   4   0   0   0   0]\n",
      "hours_of_sleep\n",
      "[5 8 5 4 5 6 6 7 5 6 8 5 6 7 5 6 8 5 4 5 6 8 5 6 5 8 5 4 5 4 5 4 3 2 9 5 6\n",
      " 4 5 8 4 5 6 5 6 5 6 5 6 5 6 7 6 7 6 5 6 7 8 8 7 8 5 4 3 3 4 5 5 5 3 4 4 5\n",
      " 5 5 5 5 5 4 3 4 5 5 4 5 3 3 3 2 3 2 8 5 5 5]\n",
      "bool_of_activity\n",
      "['0' '0' '0' '0' '500' '0' '0' '0' '0' '0' '0' '0' '500' '0' '0' '0' '0'\n",
      " '0' '0' '0' '0' '0' '0' '0' '0' '500' '0' '0' '0' '0' '500' '0' '0' '0'\n",
      " '0' '0' '500' '500' '500' '500' '500' '500' '500' '500' '500' '0' '0' '0'\n",
      " '0' '0' '0' '500' '500' '500' '500' '500' '500' '500' '500' '500' '500'\n",
      " '500' '500' '0' '500' '500' '0' '500' '500' '500' '500' '500' '0' '500'\n",
      " '500' '500' '500' '0' '0' '0' '0' '500' '500' '500' '500' '0' '0' '0' '0'\n",
      " '0' '0' '0' '0' '500' '0' '500']\n",
      "weight_kg\n",
      "[66 66 66 66 66 66 66 66 66 65 65 65 65 65 65 65 65 65 64 64 64 64 64 64\n",
      " 64 64 64 64 64 64 64 64 64 64 64 64 64 64 64 64 64 64 64 64 64 64 64 64\n",
      " 64 64 64 64 64 64 64 64 64 64 64 64 64 64 64 64 64 64 64 64 64 64 64 64\n",
      " 64 64 64 64 64 64 64 64 64 64 64 64 64 64 64 64 64 64 64 64 64 64 64 64]\n"
     ]
    }
   ],
   "source": [
    "date,step_count,mood,calories_burned,hours_of_sleep,bool_of_activity,weight_kg = data\n",
    "date = np.array(date,dtype='str')\n",
    "step_count = np.array(step_count,dtype='int')\n",
    "mood =  np.array(mood)\n",
    "calories_burned = np.array(calories_burned,dtype='int')\n",
    "hours_of_sleep= np.array(hours_of_sleep,dtype='int')\n",
    "bool_of_activity= np.array(bool_of_activity)\n",
    "weight_kg= np.array(weight_kg,dtype='int')\n",
    "print(\"date\",date,\"step_count\",step_count,\"mood\",\n",
    "      mood,\"calories_burned\",calories_burned,\"hours_of_sleep\",hours_of_sleep,\"bool_of_activity\",bool_of_activity,\n",
    "      \"weight_kg\",weight_kg,sep='\\n')"
   ]
  },
  {
   "cell_type": "markdown",
   "id": "03680592",
   "metadata": {},
   "source": [
    "# 3.CALCULATIONS"
   ]
  },
  {
   "cell_type": "code",
   "execution_count": 5,
   "id": "832555ce",
   "metadata": {},
   "outputs": [
    {
     "data": {
      "text/plain": [
       "7422"
      ]
     },
     "execution_count": 5,
     "metadata": {},
     "output_type": "execute_result"
    }
   ],
   "source": [
    "#max step count\n",
    "step_count.max()"
   ]
  },
  {
   "cell_type": "code",
   "execution_count": 6,
   "id": "9440a510",
   "metadata": {},
   "outputs": [
    {
     "data": {
      "text/plain": [
       "25"
      ]
     },
     "execution_count": 6,
     "metadata": {},
     "output_type": "execute_result"
    }
   ],
   "source": [
    "#min step count\n",
    "step_count.min()"
   ]
  },
  {
   "cell_type": "code",
   "execution_count": 7,
   "id": "a2f352ad",
   "metadata": {},
   "outputs": [
    {
     "data": {
      "text/plain": [
       "2935.9375"
      ]
     },
     "execution_count": 7,
     "metadata": {},
     "output_type": "execute_result"
    }
   ],
   "source": [
    "# average step count\n",
    "step_count.mean()"
   ]
  },
  {
   "cell_type": "code",
   "execution_count": 8,
   "id": "e0e78e16",
   "metadata": {},
   "outputs": [
    {
     "data": {
      "text/plain": [
       "array(['14-12-2017'], dtype='<U10')"
      ]
     },
     "execution_count": 8,
     "metadata": {},
     "output_type": "execute_result"
    }
   ],
   "source": [
    "# date on which sytep count was maximum\n",
    "# use of indexing or masking\n",
    "date[step_count==step_count.max()]"
   ]
  },
  {
   "cell_type": "markdown",
   "id": "0dd9c1ae",
   "metadata": {},
   "source": [
    "# 4.CONVERTING SOME CATEGORICAL VARIABLE FROM INT"
   ]
  },
  {
   "cell_type": "code",
   "execution_count": 9,
   "id": "03c70038",
   "metadata": {},
   "outputs": [
    {
     "data": {
      "text/plain": [
       "array(['UNACTIVE', 'UNACTIVE', 'UNACTIVE', 'UNACTIVE', 'ACTIVE',\n",
       "       'UNACTIVE', 'UNACTIVE', 'UNACTIVE', 'UNACTIVE', 'UNACTIVE',\n",
       "       'UNACTIVE', 'UNACTIVE', 'ACTIVE', 'UNACTIVE', 'UNACTIVE',\n",
       "       'UNACTIVE', 'UNACTIVE', 'UNACTIVE', 'UNACTIVE', 'UNACTIVE',\n",
       "       'UNACTIVE', 'UNACTIVE', 'UNACTIVE', 'UNACTIVE', 'UNACTIVE',\n",
       "       'ACTIVE', 'UNACTIVE', 'UNACTIVE', 'UNACTIVE', 'UNACTIVE', 'ACTIVE',\n",
       "       'UNACTIVE', 'UNACTIVE', 'UNACTIVE', 'UNACTIVE', 'UNACTIVE',\n",
       "       'ACTIVE', 'ACTIVE', 'ACTIVE', 'ACTIVE', 'ACTIVE', 'ACTIVE',\n",
       "       'ACTIVE', 'ACTIVE', 'ACTIVE', 'UNACTIVE', 'UNACTIVE', 'UNACTIVE',\n",
       "       'UNACTIVE', 'UNACTIVE', 'UNACTIVE', 'ACTIVE', 'ACTIVE', 'ACTIVE',\n",
       "       'ACTIVE', 'ACTIVE', 'ACTIVE', 'ACTIVE', 'ACTIVE', 'ACTIVE',\n",
       "       'ACTIVE', 'ACTIVE', 'ACTIVE', 'UNACTIVE', 'ACTIVE', 'ACTIVE',\n",
       "       'UNACTIVE', 'ACTIVE', 'ACTIVE', 'ACTIVE', 'ACTIVE', 'ACTIVE',\n",
       "       'UNACTIVE', 'ACTIVE', 'ACTIVE', 'ACTIVE', 'ACTIVE', 'UNACTIVE',\n",
       "       'UNACTIVE', 'UNACTIVE', 'UNACTIVE', 'ACTIVE', 'ACTIVE', 'ACTIVE',\n",
       "       'ACTIVE', 'UNACTIVE', 'UNACTIVE', 'UNACTIVE', 'UNACTIVE',\n",
       "       'UNACTIVE', 'UNACTIVE', 'UNACTIVE', 'UNACTIVE', 'ACTIVE',\n",
       "       'UNACTIVE', 'ACTIVE'], dtype='<U10')"
      ]
     },
     "execution_count": 9,
     "metadata": {},
     "output_type": "execute_result"
    }
   ],
   "source": [
    "# converting into categorical variable for understanding\n",
    "bool_of_activity[bool_of_activity == \"0\"] = \"UNACTIVE\"\n",
    "bool_of_activity[bool_of_activity == \"500\"] = \"ACTIVE\"\n",
    "bool_of_activity"
   ]
  },
  {
   "cell_type": "code",
   "execution_count": 10,
   "id": "29b0ea6b",
   "metadata": {},
   "outputs": [
    {
     "data": {
      "text/plain": [
       "(array(['100', '200', '300'], dtype='<U10'), array([29, 27, 40], dtype=int64))"
      ]
     },
     "execution_count": 10,
     "metadata": {},
     "output_type": "execute_result"
    }
   ],
   "source": [
    "#checking for unique values of mood\n",
    "np.unique(mood,return_counts=True)"
   ]
  },
  {
   "cell_type": "code",
   "execution_count": 11,
   "id": "47f9e487",
   "metadata": {},
   "outputs": [],
   "source": [
    "#converting value of mood in categorical as {100:\"SAD\",200:\"NEUTRAL\",300:\"HAPPY\"}\n",
    "mood[mood==\"100\"]=\"SAD\"\n",
    "mood[mood==\"200\"]=\"NEUTRAL\"\n",
    "mood[mood==\"300\"]=\"HAPPY\""
   ]
  },
  {
   "cell_type": "code",
   "execution_count": 12,
   "id": "bd573f53",
   "metadata": {},
   "outputs": [
    {
     "data": {
      "text/plain": [
       "array(['NEUTRAL', 'SAD', 'SAD', 'SAD', 'NEUTRAL', 'SAD', 'SAD', 'SAD',\n",
       "       'SAD', 'SAD', 'SAD', 'SAD', 'HAPPY', 'SAD', 'SAD', 'SAD', 'SAD',\n",
       "       'NEUTRAL', 'NEUTRAL', 'NEUTRAL', 'NEUTRAL', 'NEUTRAL', 'NEUTRAL',\n",
       "       'HAPPY', 'NEUTRAL', 'HAPPY', 'HAPPY', 'HAPPY', 'HAPPY', 'HAPPY',\n",
       "       'HAPPY', 'HAPPY', 'NEUTRAL', 'HAPPY', 'HAPPY', 'HAPPY', 'HAPPY',\n",
       "       'HAPPY', 'HAPPY', 'HAPPY', 'HAPPY', 'HAPPY', 'HAPPY', 'NEUTRAL',\n",
       "       'HAPPY', 'HAPPY', 'HAPPY', 'HAPPY', 'HAPPY', 'HAPPY', 'HAPPY',\n",
       "       'HAPPY', 'HAPPY', 'NEUTRAL', 'SAD', 'HAPPY', 'HAPPY', 'HAPPY',\n",
       "       'HAPPY', 'HAPPY', 'HAPPY', 'HAPPY', 'SAD', 'NEUTRAL', 'NEUTRAL',\n",
       "       'SAD', 'SAD', 'NEUTRAL', 'NEUTRAL', 'HAPPY', 'NEUTRAL', 'NEUTRAL',\n",
       "       'SAD', 'NEUTRAL', 'SAD', 'NEUTRAL', 'NEUTRAL', 'SAD', 'SAD', 'SAD',\n",
       "       'SAD', 'HAPPY', 'NEUTRAL', 'HAPPY', 'NEUTRAL', 'SAD', 'SAD', 'SAD',\n",
       "       'NEUTRAL', 'NEUTRAL', 'SAD', 'SAD', 'HAPPY', 'NEUTRAL', 'NEUTRAL',\n",
       "       'HAPPY'], dtype='<U10')"
      ]
     },
     "execution_count": 12,
     "metadata": {},
     "output_type": "execute_result"
    }
   ],
   "source": [
    "mood"
   ]
  },
  {
   "cell_type": "markdown",
   "id": "3e1896fe",
   "metadata": {},
   "source": [
    "# 5.CALCULATION OF STEP COUNT ON MOOD BASIS"
   ]
  },
  {
   "cell_type": "code",
   "execution_count": 13,
   "id": "1821526d",
   "metadata": {},
   "outputs": [
    {
     "data": {
      "text/plain": [
       "array([4732,  330, 4550, 4435, 4779, 1831, 2255,  539, 5464, 4068, 4683,\n",
       "       4033, 6314,  614, 3149, 4005, 4880, 4136,  705,  269, 4275, 5999,\n",
       "       4421, 6930, 5195,  546,  493,  995, 3608,  774, 1421, 4064, 2725,\n",
       "       5934, 1867, 7422, 5537, 5376,  153, 2203])"
      ]
     },
     "execution_count": 13,
     "metadata": {},
     "output_type": "execute_result"
    }
   ],
   "source": [
    "#step count when mood is happy\n",
    "step_count[mood==\"HAPPY\"]"
   ]
  },
  {
   "cell_type": "code",
   "execution_count": 14,
   "id": "e8d7e658",
   "metadata": {},
   "outputs": [
    {
     "name": "stdout",
     "output_type": "stream",
     "text": [
      "AVG step count when mood is happy : 3392.725\n",
      "MAX step count when mood is happy : 7422\n",
      "MIN step count when mood is happy : 153\n"
     ]
    }
   ],
   "source": [
    "#step count info when mood is happy\n",
    "print(\"AVG step count when mood is happy :\",step_count[mood==\"HAPPY\"].mean())\n",
    "print(\"MAX step count when mood is happy :\",step_count[mood==\"HAPPY\"].max())\n",
    "print(\"MIN step count when mood is happy :\",step_count[mood==\"HAPPY\"].min())"
   ]
  },
  {
   "cell_type": "code",
   "execution_count": 15,
   "id": "6af960cd",
   "metadata": {},
   "outputs": [
    {
     "data": {
      "text/plain": [
       "array([5464, 6915, 3158, 4383, 3881, 4037,  202,  292, 2209, 6041,  570,\n",
       "       1163, 2374, 2909, 7102, 3941,  437, 1231, 4921, 6500, 3575, 4108,\n",
       "       3066, 1447, 2599,  500, 2127])"
      ]
     },
     "execution_count": 15,
     "metadata": {},
     "output_type": "execute_result"
    }
   ],
   "source": [
    "#step count when mood is neutral\n",
    "step_count[mood==\"NEUTRAL\"]"
   ]
  },
  {
   "cell_type": "code",
   "execution_count": 16,
   "id": "c0724589",
   "metadata": {},
   "outputs": [
    {
     "name": "stdout",
     "output_type": "stream",
     "text": [
      "AVG step count when mood is neutral : 3153.777777777778\n",
      "MAX step count when mood is neutral : 7102\n",
      "MIN step count when mood is neutral : 202\n"
     ]
    }
   ],
   "source": [
    "#step count info when mood is neutral\n",
    "print(\"AVG step count when mood is neutral :\",step_count[mood==\"NEUTRAL\"].mean())\n",
    "print(\"MAX step count when mood is neutral :\",step_count[mood==\"NEUTRAL\"].max())\n",
    "print(\"MIN step count when mood is neutral :\",step_count[mood==\"NEUTRAL\"].min())"
   ]
  },
  {
   "cell_type": "code",
   "execution_count": 17,
   "id": "68f44554",
   "metadata": {},
   "outputs": [
    {
     "data": {
      "text/plain": [
       "array([6041,   25, 5461, 4545, 4340, 1230,   61, 1258, 3148, 4687, 3519,\n",
       "       1580, 2822,  181, 6676, 3721, 1648,  799, 1696,  221, 4061,  651,\n",
       "        753,  518,  177,   36,  299,  702,  133])"
      ]
     },
     "execution_count": 17,
     "metadata": {},
     "output_type": "execute_result"
    }
   ],
   "source": [
    "#step count when mood is sad\n",
    "step_count[mood==\"SAD\"]"
   ]
  },
  {
   "cell_type": "code",
   "execution_count": 18,
   "id": "55841980",
   "metadata": {},
   "outputs": [
    {
     "name": "stdout",
     "output_type": "stream",
     "text": [
      "AVG step count when mood is sad : 2103.0689655172414\n",
      "MAX step count when mood is sad : 6676\n",
      "MIN step count when mood is sad : 25\n"
     ]
    }
   ],
   "source": [
    "#step count info when mood is sad\n",
    "print(\"AVG step count when mood is sad :\",step_count[mood==\"SAD\"].mean())\n",
    "print(\"MAX step count when mood is sad :\",step_count[mood==\"SAD\"].max())\n",
    "print(\"MIN step count when mood is sad :\",step_count[mood==\"SAD\"].min())"
   ]
  },
  {
   "cell_type": "markdown",
   "id": "ba3903f2",
   "metadata": {},
   "source": [
    "# 6.CALCULATION FOR HOURS OF SLEEP ON MOOD BASIS"
   ]
  },
  {
   "cell_type": "markdown",
   "id": "2d867297",
   "metadata": {},
   "source": [
    "### 6.1 HOUR OF SLEEP ON MOOD BASIS"
   ]
  },
  {
   "cell_type": "code",
   "execution_count": 19,
   "id": "5bb4a6f0",
   "metadata": {},
   "outputs": [
    {
     "data": {
      "text/plain": [
       "5.21875"
      ]
     },
     "execution_count": 19,
     "metadata": {},
     "output_type": "execute_result"
    }
   ],
   "source": [
    "#AVERAGE HOURS OF SLEEP OVERALL\n",
    "hours_of_sleep.mean()"
   ]
  },
  {
   "cell_type": "code",
   "execution_count": 20,
   "id": "e15dbc67",
   "metadata": {},
   "outputs": [
    {
     "data": {
      "text/plain": [
       "array([6, 6, 8, 5, 4, 5, 4, 5, 4, 2, 9, 5, 6, 4, 5, 8, 4, 5, 6, 6, 5, 6,\n",
       "       5, 6, 5, 6, 7, 6, 5, 6, 7, 8, 8, 7, 8, 5, 4, 5, 8, 5])"
      ]
     },
     "execution_count": 20,
     "metadata": {},
     "output_type": "execute_result"
    }
   ],
   "source": [
    "# WHEN MOOD WAS HAPPY\n",
    "hours_of_sleep[mood==\"HAPPY\"]"
   ]
  },
  {
   "cell_type": "code",
   "execution_count": 21,
   "id": "6d2e2e50",
   "metadata": {},
   "outputs": [
    {
     "name": "stdout",
     "output_type": "stream",
     "text": [
      "MAX HRS SLEEP WHEN MOOD WAS HAPPY : 9\n",
      "MIN HRS SLEEP WHEN MOOD WAS HAPPY : 2\n",
      "AVERAGE HRS SLEEP WHEN MOOD WAS HAPPY : 5.725\n"
     ]
    }
   ],
   "source": [
    "# STATS WHEN MOOD WAS HAPPY\n",
    "print(\"MAX HRS SLEEP WHEN MOOD WAS HAPPY :\",hours_of_sleep[mood==\"HAPPY\"].max())\n",
    "print(\"MIN HRS SLEEP WHEN MOOD WAS HAPPY :\",hours_of_sleep[mood==\"HAPPY\"].min())\n",
    "print(\"AVERAGE HRS SLEEP WHEN MOOD WAS HAPPY :\",hours_of_sleep[mood==\"HAPPY\"].mean())"
   ]
  },
  {
   "cell_type": "code",
   "execution_count": 22,
   "id": "61f57058",
   "metadata": {},
   "outputs": [
    {
     "data": {
      "text/plain": [
       "array([8, 5, 4, 6, 6, 7, 5, 6, 8, 5, 7, 5, 6, 8, 6, 5, 3, 4, 4, 5, 5, 5,\n",
       "       4, 3, 5, 3, 3, 3, 2])"
      ]
     },
     "execution_count": 22,
     "metadata": {},
     "output_type": "execute_result"
    }
   ],
   "source": [
    "# WHEN MOOD WAS SAD\n",
    "hours_of_sleep[mood==\"SAD\"]"
   ]
  },
  {
   "cell_type": "code",
   "execution_count": 23,
   "id": "6c227bda",
   "metadata": {},
   "outputs": [
    {
     "name": "stdout",
     "output_type": "stream",
     "text": [
      "MAX HRS SLEEP WHEN MOOD WAS SAD : 8\n",
      "MIN HRS SLEEP WHEN MOOD WAS SAD : 2\n",
      "AVERAGE HRS SLEEP WHEN MOOD WAS SAD : 5.0344827586206895\n"
     ]
    }
   ],
   "source": [
    "# STATS WHEN MOOD WAS HAPPY\n",
    "print(\"MAX HRS SLEEP WHEN MOOD WAS SAD :\",hours_of_sleep[mood==\"SAD\"].max())\n",
    "print(\"MIN HRS SLEEP WHEN MOOD WAS SAD :\",hours_of_sleep[mood==\"SAD\"].min())\n",
    "print(\"AVERAGE HRS SLEEP WHEN MOOD WAS SAD :\",hours_of_sleep[mood==\"SAD\"].mean())"
   ]
  },
  {
   "cell_type": "code",
   "execution_count": 24,
   "id": "48b23243",
   "metadata": {},
   "outputs": [
    {
     "data": {
      "text/plain": [
       "array([5, 5, 5, 4, 5, 6, 8, 5, 5, 3, 5, 7, 4, 3, 5, 5, 3, 4, 5, 5, 5, 5,\n",
       "       4, 3, 2, 5, 5])"
      ]
     },
     "execution_count": 24,
     "metadata": {},
     "output_type": "execute_result"
    }
   ],
   "source": [
    "# WHEN MOOD WAS NEUTRAL\n",
    "hours_of_sleep[mood==\"NEUTRAL\"]"
   ]
  },
  {
   "cell_type": "code",
   "execution_count": 25,
   "id": "8f51a037",
   "metadata": {},
   "outputs": [
    {
     "name": "stdout",
     "output_type": "stream",
     "text": [
      "MAX HRS SLEEP WHEN MOOD WAS NEUTRAL : 8\n",
      "MIN HRS SLEEP WHEN MOOD WAS NEUTRAL : 2\n",
      "AVERAGE HRS SLEEP WHEN MOOD WAS NEUTRAL : 4.666666666666667\n"
     ]
    }
   ],
   "source": [
    "# STATS WHEN MOOD WAS NEUTRAL\n",
    "print(\"MAX HRS SLEEP WHEN MOOD WAS NEUTRAL :\",hours_of_sleep[mood==\"NEUTRAL\"].max())\n",
    "print(\"MIN HRS SLEEP WHEN MOOD WAS NEUTRAL :\",hours_of_sleep[mood==\"NEUTRAL\"].min())\n",
    "print(\"AVERAGE HRS SLEEP WHEN MOOD WAS NEUTRAL :\",hours_of_sleep[mood==\"NEUTRAL\"].mean())"
   ]
  },
  {
   "cell_type": "markdown",
   "id": "1c26a38f",
   "metadata": {},
   "source": [
    "### 6.2 HOUR OF SLEEP ON ACTIVITY BASIS "
   ]
  },
  {
   "cell_type": "code",
   "execution_count": 40,
   "id": "ae5ac8a9",
   "metadata": {},
   "outputs": [
    {
     "data": {
      "text/plain": [
       "(array(['ACTIVE', 'UNACTIVE'], dtype='<U10'), array([42, 54], dtype=int64))"
      ]
     },
     "execution_count": 40,
     "metadata": {},
     "output_type": "execute_result"
    }
   ],
   "source": [
    "np.unique(bool_of_activity,return_counts=True)"
   ]
  },
  {
   "cell_type": "code",
   "execution_count": 45,
   "id": "7dd417f4",
   "metadata": {},
   "outputs": [
    {
     "name": "stdout",
     "output_type": "stream",
     "text": [
      "SLEEP HOURS FOR ACTIVE MOOD.....\n",
      "[5 6 8 5 6 4 5 8 4 5 6 5 6 7 6 7 6 5 6 7 8 8 7 8 5 3 3 5 5 5 3 4 5 5 5 5 4\n",
      " 5 5 4 5 5]\n",
      "MAX HRS SLEEP WHEN MOOD WAS ACTIVE : 8\n",
      "MIN HRS SLEEP WHEN MOOD WAS ACTIVE : 3\n",
      "AVERAGE HRS SLEEP WHEN MOOD WAS ACTIVE : 5.4523809523809526\n"
     ]
    }
   ],
   "source": [
    "# SLEEP CALCULATION FOR ACTIVE MOOD\n",
    "print(\"SLEEP HOURS FOR ACTIVE MOOD.....\",hours_of_sleep[bool_of_activity=='ACTIVE'],sep='\\n')\n",
    "print(\"MAX HRS SLEEP WHEN MOOD WAS ACTIVE :\",hours_of_sleep[bool_of_activity=='ACTIVE'].max())\n",
    "print(\"MIN HRS SLEEP WHEN MOOD WAS ACTIVE :\",hours_of_sleep[bool_of_activity=='ACTIVE'].min())\n",
    "print(\"AVERAGE HRS SLEEP WHEN MOOD WAS ACTIVE :\",hours_of_sleep[bool_of_activity=='ACTIVE'].mean())"
   ]
  },
  {
   "cell_type": "code",
   "execution_count": 46,
   "id": "4bef7acb",
   "metadata": {},
   "outputs": [
    {
     "name": "stdout",
     "output_type": "stream",
     "text": [
      "SLEEP HOURS FOR UNACTIVE MOOD.....\n",
      "[5 8 5 4 6 6 7 5 6 8 5 7 5 6 8 5 4 5 6 8 5 6 5 5 4 5 4 4 3 2 9 5 5 6 5 6 5\n",
      " 6 4 4 4 5 5 4 3 5 3 3 3 2 3 2 8 5]\n",
      "MAX HRS SLEEP WHEN MOOD WAS UNACTIVE : 9\n",
      "MIN HRS SLEEP WHEN MOOD WAS UNACTIVE : 2\n",
      "AVERAGE HRS SLEEP WHEN MOOD WAS UNACTIVE : 5.037037037037037\n"
     ]
    }
   ],
   "source": [
    "# SLEEP CALCULATION FOR UNACTIVE MOOD\n",
    "print(\"SLEEP HOURS FOR UNACTIVE MOOD.....\",hours_of_sleep[bool_of_activity=='UNACTIVE'],sep='\\n')\n",
    "print(\"MAX HRS SLEEP WHEN MOOD WAS UNACTIVE :\",hours_of_sleep[bool_of_activity=='UNACTIVE'].max())\n",
    "print(\"MIN HRS SLEEP WHEN MOOD WAS UNACTIVE :\",hours_of_sleep[bool_of_activity=='UNACTIVE'].min())\n",
    "print(\"AVERAGE HRS SLEEP WHEN MOOD WAS UNACTIVE :\",hours_of_sleep[bool_of_activity=='UNACTIVE'].mean())"
   ]
  },
  {
   "cell_type": "markdown",
   "id": "168fc3f0",
   "metadata": {},
   "source": [
    "# 7.CALCULATION OF MOOD ON ACTIVITY BASIS"
   ]
  },
  {
   "cell_type": "code",
   "execution_count": 37,
   "id": "1ca80666",
   "metadata": {},
   "outputs": [
    {
     "name": "stdout",
     "output_type": "stream",
     "text": [
      "WHEN bool_of_activity OR ACTIVITY IS 'ACTIVE' :\n"
     ]
    },
    {
     "data": {
      "text/plain": [
       "(array(['HAPPY', 'NEUTRAL', 'SAD'], dtype='<U10'),\n",
       " array([24, 14,  4], dtype=int64))"
      ]
     },
     "execution_count": 37,
     "metadata": {},
     "output_type": "execute_result"
    }
   ],
   "source": [
    "print(\"WHEN bool_of_activity OR ACTIVITY IS 'ACTIVE' :\")\n",
    "np.unique(mood[bool_of_activity=='ACTIVE'],return_counts=True)"
   ]
  },
  {
   "cell_type": "code",
   "execution_count": 38,
   "id": "448c28ba",
   "metadata": {},
   "outputs": [
    {
     "name": "stdout",
     "output_type": "stream",
     "text": [
      "WHEN bool_of_activity OR ACTIVITY IS 'UNACTIVE' :\n"
     ]
    },
    {
     "data": {
      "text/plain": [
       "(array(['HAPPY', 'NEUTRAL', 'SAD'], dtype='<U10'),\n",
       " array([16, 13, 25], dtype=int64))"
      ]
     },
     "execution_count": 38,
     "metadata": {},
     "output_type": "execute_result"
    }
   ],
   "source": [
    "print(\"WHEN bool_of_activity OR ACTIVITY IS 'UNACTIVE' :\")\n",
    "np.unique(mood[bool_of_activity=='UNACTIVE'],return_counts=True)"
   ]
  },
  {
   "cell_type": "markdown",
   "id": "728e447a",
   "metadata": {},
   "source": [
    "# 8.RELATION BETW STEP COUNT & CALORIES BURNED"
   ]
  },
  {
   "cell_type": "code",
   "execution_count": 59,
   "id": "d0a7904d",
   "metadata": {},
   "outputs": [
    {
     "name": "stdout",
     "output_type": "stream",
     "text": [
      "[181 197   0 174 223 149 140  38   1  40 101 152 150 113  49  86   6  99\n",
      " 143 125 129   6   9  10  72 150 141 156  57  72  17 181 197 131 154 137\n",
      " 193  19 101 139 164 137  22  17   9 145 192 146 234 167  16  17  32  35\n",
      " 220 116  23  44 131  86 194  60 121  76  93  53  25 227 125 243  14  39\n",
      "  55 158   7 213 116 129  21  28  16 180 138 176  99   5   1  10  47  84\n",
      "  23   4   0   0   0   0]\n",
      "\n",
      "CALORIES BURNED FOR MAXIMUM STEP COUNTS : 243\n",
      "CALORIES BURNED FOR MINIMUM STEP COUNTS : 0\n"
     ]
    }
   ],
   "source": [
    "print(calories_burned)\n",
    "print()\n",
    "print(\"CALORIES BURNED FOR MAXIMUM STEP COUNTS :\",calories_burned[step_count == step_count.max()][0])\n",
    "print(\"CALORIES BURNED FOR MINIMUM STEP COUNTS :\",calories_burned[step_count == step_count.min()][0])"
   ]
  },
  {
   "cell_type": "code",
   "execution_count": 61,
   "id": "16612e82",
   "metadata": {},
   "outputs": [
    {
     "name": "stdout",
     "output_type": "stream",
     "text": [
      "MAXIMUM CALORIES BURNED : 243\n",
      "MINIMUM CALORIES BURNED : 0\n",
      "AVERAGE CALORIES BURNED : 93.44791666666667\n"
     ]
    }
   ],
   "source": [
    "print(\"MAXIMUM CALORIES BURNED :\",calories_burned.max())\n",
    "print(\"MINIMUM CALORIES BURNED :\",calories_burned.min())\n",
    "print(\"AVERAGE CALORIES BURNED :\",calories_burned.mean())"
   ]
  },
  {
   "cell_type": "markdown",
   "id": "493658c5",
   "metadata": {},
   "source": [
    "# 9. RELATION BETWEEN WEIGHT,CALORIES & STEP COUNTS"
   ]
  },
  {
   "cell_type": "code",
   "execution_count": 63,
   "id": "5c55560d",
   "metadata": {},
   "outputs": [
    {
     "data": {
      "text/plain": [
       "(array([64, 65, 66]), array([78,  9,  9], dtype=int64))"
      ]
     },
     "execution_count": 63,
     "metadata": {},
     "output_type": "execute_result"
    }
   ],
   "source": [
    "np.unique(weight_kg,return_counts=True)"
   ]
  },
  {
   "cell_type": "code",
   "execution_count": 65,
   "id": "7e6e37ea",
   "metadata": {},
   "outputs": [
    {
     "name": "stdout",
     "output_type": "stream",
     "text": [
      "WEIGHT FOR MAXIMUM STEP COUNTS : 64\n",
      "WEIGHT FOR  FOR MINIMUM STEP COUNTS : 66\n"
     ]
    }
   ],
   "source": [
    "# RELATION BETWEEN WEIGHTS & STEP COUNTS\n",
    "print(\"WEIGHT FOR MAXIMUM STEP COUNTS :\",weight_kg[step_count == step_count.max()][0])\n",
    "print(\"WEIGHT FOR  FOR MINIMUM STEP COUNTS :\",weight_kg[step_count == step_count.min()][0])"
   ]
  },
  {
   "cell_type": "code",
   "execution_count": 67,
   "id": "d9aa0845",
   "metadata": {},
   "outputs": [
    {
     "name": "stdout",
     "output_type": "stream",
     "text": [
      "WEIGHT FOR MAXIMUM CALORIES BURNED: 64\n",
      "WEIGHT FOR  FOR MINIMUM CALORIES BURNED : 66\n"
     ]
    }
   ],
   "source": [
    "# RELATION BETWEEN WEIGHTS & CALORIES\n",
    "print(\"WEIGHT FOR MAXIMUM CALORIES BURNED:\",weight_kg[calories_burned == calories_burned.max()][0])\n",
    "print(\"WEIGHT FOR  FOR MINIMUM CALORIES BURNED :\",weight_kg[calories_burned == calories_burned.min()][0])"
   ]
  },
  {
   "cell_type": "markdown",
   "id": "c8554fac",
   "metadata": {},
   "source": [
    "# 9. RELATION BETWEEN WEIGHT,MOOD & ACTIVITY"
   ]
  },
  {
   "cell_type": "code",
   "execution_count": 69,
   "id": "4daf372d",
   "metadata": {},
   "outputs": [
    {
     "name": "stdout",
     "output_type": "stream",
     "text": [
      "AVG WEIGHT WHEN MOOD IS HAPPY : 64.025\n",
      "AVG WEIGHT WHEN MOOD IS NEUTRAL : 64.18518518518519\n",
      "AVG WEIGHT WHEN MOOD IS SAD : 64.72413793103448\n"
     ]
    }
   ],
   "source": [
    "# RELATION BETWEEN WEIGHTS & MOOD\n",
    "print(\"AVG WEIGHT WHEN MOOD IS HAPPY :\",weight_kg[mood==\"HAPPY\"].mean())\n",
    "print(\"AVG WEIGHT WHEN MOOD IS NEUTRAL :\",weight_kg[mood==\"NEUTRAL\"].mean())\n",
    "print(\"AVG WEIGHT WHEN MOOD IS SAD :\",weight_kg[mood==\"SAD\"].mean())"
   ]
  },
  {
   "cell_type": "code",
   "execution_count": 70,
   "id": "930e6e30",
   "metadata": {},
   "outputs": [
    {
     "name": "stdout",
     "output_type": "stream",
     "text": [
      "AVG WEIGHT WHEN bool_of_activity OR ACTIVITY_STATUS IS ACTIVE : 64.07142857142857\n",
      "AVG WEIGHT WHEN bool_of_activity OR ACTIVITY_STATUS IS UNACTIVE : 64.44444444444444\n"
     ]
    }
   ],
   "source": [
    "# RELATION BETWEEN WEIGHTS & ACTIVITY\n",
    "print(\"AVG WEIGHT WHEN bool_of_activity OR ACTIVITY_STATUS IS ACTIVE :\",weight_kg[bool_of_activity=='ACTIVE'].mean())\n",
    "print(\"AVG WEIGHT WHEN bool_of_activity OR ACTIVITY_STATUS IS UNACTIVE :\",weight_kg[bool_of_activity=='UNACTIVE'].mean())"
   ]
  },
  {
   "cell_type": "markdown",
   "id": "dcbd8152",
   "metadata": {},
   "source": [
    "# 10. INSIGHT & RECOMMENDATION FROM DATASET ON BASIS OF CALCULATIONS"
   ]
  },
  {
   "cell_type": "markdown",
   "id": "dfb218b9",
   "metadata": {},
   "source": [
    "> 1.WHEN MOOD IS HAPPY THE AVERAGE HOURS OF SLEEP ARE HIGHER.SO FOR A NICE SLEEP THE MOOD SHOULD BE HAPPY"
   ]
  },
  {
   "cell_type": "markdown",
   "id": "eeb9be3a",
   "metadata": {},
   "source": [
    "> 2. MOOD IS GENERALLY HAPPY WHEN PERSON HAS STEP COUNT HIGHER SO ITS RECOMENDED TO \"GO FOR A WALK\" AND \"A PERSON SHOULD BE ACTIVE\""
   ]
  },
  {
   "cell_type": "markdown",
   "id": "b5b7d129",
   "metadata": {},
   "source": [
    "> 3.WHEN STEP COUNT IS HIGHEST THE PERSON WEIGHT IS MINIMUM & WE CAN SAY IF A PERSON GO FOR WALK HIS WEIGHT IS MAINTAINED"
   ]
  },
  {
   "cell_type": "markdown",
   "id": "c29e5e6f",
   "metadata": {},
   "source": [
    "> 4. WHEN PERSON IS ACTIVE THEN WEIGHT IS ALSO MINIMUM. SO ITS RECOMENDED FOR A PERSON TO BE ACTIVE FOR MAINTAINING WEIGHT"
   ]
  },
  {
   "cell_type": "markdown",
   "id": "ab688a5c",
   "metadata": {},
   "source": [
    "> 5.AVG WEIGHT IS MIN WHEN A PERSON IS HAPPY."
   ]
  },
  {
   "cell_type": "markdown",
   "id": "4dbdf4d7",
   "metadata": {},
   "source": [
    "# 11.CONCLUSIONS"
   ]
  },
  {
   "cell_type": "markdown",
   "id": "8617cdab",
   "metadata": {},
   "source": [
    "**WHEN A PERSON IS ACTIVE, & HAVING A STEP COUNT THEN PERSON IS MOST LIKELY TO HAVE A CONST WEIGHT(UNDER CONTROL) ,HAVING A AVERAGE HOUR OF SLEEP HIGHEST AND MOOD IS MOST LIKELY TO BE HAPPY**"
   ]
  },
  {
   "cell_type": "markdown",
   "id": "f4f61ca2",
   "metadata": {},
   "source": [
    "> ALL THE ABOVE CONCLUSION ARE MADE ON THE INSIGHT GIVEN FROM DATA"
   ]
  },
  {
   "cell_type": "markdown",
   "id": "e78503fa",
   "metadata": {},
   "source": [
    "**MAX HRS SLEEP WHEN MOOD WAS HAPPY : 9\n",
    "MIN HRS SLEEP WHEN MOOD WAS HAPPY : 2\n",
    "AVERAGE HRS SLEEP WHEN MOOD WAS HAPPY : 5.725\n",
    "\n",
    "**MAX HRS SLEEP WHEN MOOD WAS SAD : 8\n",
    "MIN HRS SLEEP WHEN MOOD WAS SAD : 2\n",
    "AVERAGE HRS SLEEP WHEN MOOD WAS SAD : 5.0344827586206895\n",
    "\n",
    "**MAX HRS SLEEP WHEN MOOD WAS NEUTRAL : 8\n",
    "MIN HRS SLEEP WHEN MOOD WAS NEUTRAL : 2\n",
    "AVERAGE HRS SLEEP WHEN MOOD WAS NEUTRAL : 4.666666666666667\n",
    "\n",
    "**MAX HRS SLEEP WHEN MOOD WAS ACTIVE : 8\n",
    "MIN HRS SLEEP WHEN MOOD WAS ACTIVE : 3\n",
    "AVERAGE HRS SLEEP WHEN MOOD WAS ACTIVE : 5.4523809523809526\n",
    "\n",
    "**MAX HRS SLEEP WHEN MOOD WAS UNACTIVE : 9\n",
    "MIN HRS SLEEP WHEN MOOD WAS UNACTIVE : 2\n",
    "AVERAGE HRS SLEEP WHEN MOOD WAS UNACTIVE : 5.037037037037037\n",
    "\n",
    "**CALORIES BURNED FOR MAXIMUM STEP COUNTS : 243\n",
    "CALORIES BURNED FOR MINIMUM STEP COUNTS : 0\n",
    "\n",
    "**WEIGHT FOR MAXIMUM STEP COUNTS : 64\n",
    "WEIGHT FOR  FOR MINIMUM STEP COUNTS : 66\n",
    "\n",
    "**WEIGHT FOR MAXIMUM CALORIES BURNED: 64\n",
    "WEIGHT FOR  FOR MINIMUM CALORIES BURNED : 66\n",
    "\n",
    "**AVG WEIGHT WHEN MOOD IS HAPPY : 64.025\n",
    "AVG WEIGHT WHEN MOOD IS NEUTRAL : 64.18518518518519\n",
    "AVG WEIGHT WHEN MOOD IS SAD : 64.72413793103448\n",
    "\n",
    "**AVG WEIGHT WHEN bool_of_activity OR ACTIVITY_STATUS IS ACTIVE : 64.07142857142857\n",
    "AVG WEIGHT WHEN bool_of_activity OR ACTIVITY_STATUS IS UNACTIVE : 64.44444444444444"
   ]
  },
  {
   "cell_type": "code",
   "execution_count": null,
   "id": "fc091662",
   "metadata": {},
   "outputs": [],
   "source": []
  }
 ],
 "metadata": {
  "kernelspec": {
   "display_name": "Python 3 (ipykernel)",
   "language": "python",
   "name": "python3"
  },
  "language_info": {
   "codemirror_mode": {
    "name": "ipython",
    "version": 3
   },
   "file_extension": ".py",
   "mimetype": "text/x-python",
   "name": "python",
   "nbconvert_exporter": "python",
   "pygments_lexer": "ipython3",
   "version": "3.11.2"
  }
 },
 "nbformat": 4,
 "nbformat_minor": 5
}
